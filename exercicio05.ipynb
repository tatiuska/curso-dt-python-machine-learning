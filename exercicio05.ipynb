{
 "cells": [
  {
   "cell_type": "code",
   "execution_count": 3,
   "id": "8aed50ae",
   "metadata": {},
   "outputs": [],
   "source": [
    "dicionario = {'Curso':'Python para ML', \n",
    "              'Produtor':'Didática Tech',\n",
    "              'Preço':'Gratuito',\n",
    "              'Nota':10}"
   ]
  },
  {
   "cell_type": "code",
   "execution_count": 4,
   "id": "70497d2c",
   "metadata": {},
   "outputs": [
    {
     "data": {
      "text/plain": [
       "'Python para ML'"
      ]
     },
     "execution_count": 4,
     "metadata": {},
     "output_type": "execute_result"
    }
   ],
   "source": [
    "dicionario['Curso']"
   ]
  },
  {
   "cell_type": "code",
   "execution_count": 5,
   "id": "c0b844a9",
   "metadata": {},
   "outputs": [
    {
     "data": {
      "text/plain": [
       "'Didática Tech'"
      ]
     },
     "execution_count": 5,
     "metadata": {},
     "output_type": "execute_result"
    }
   ],
   "source": [
    "dicionario['Produtor']"
   ]
  },
  {
   "cell_type": "code",
   "execution_count": 6,
   "id": "86f50997",
   "metadata": {},
   "outputs": [
    {
     "data": {
      "text/plain": [
       "'Gratuito'"
      ]
     },
     "execution_count": 6,
     "metadata": {},
     "output_type": "execute_result"
    }
   ],
   "source": [
    "dicionario['Preço']"
   ]
  },
  {
   "cell_type": "code",
   "execution_count": 7,
   "id": "f85f849b",
   "metadata": {},
   "outputs": [
    {
     "data": {
      "text/plain": [
       "10"
      ]
     },
     "execution_count": 7,
     "metadata": {},
     "output_type": "execute_result"
    }
   ],
   "source": [
    "dicionario['Nota']"
   ]
  },
  {
   "cell_type": "code",
   "execution_count": 8,
   "id": "28d6f106",
   "metadata": {},
   "outputs": [],
   "source": [
    "a = dicionario['Nota']"
   ]
  },
  {
   "cell_type": "code",
   "execution_count": 9,
   "id": "b4791008",
   "metadata": {},
   "outputs": [
    {
     "name": "stdout",
     "output_type": "stream",
     "text": [
      "10\n"
     ]
    }
   ],
   "source": [
    "print(a)"
   ]
  },
  {
   "cell_type": "code",
   "execution_count": 10,
   "id": "34c24101",
   "metadata": {},
   "outputs": [
    {
     "data": {
      "text/plain": [
       "int"
      ]
     },
     "execution_count": 10,
     "metadata": {},
     "output_type": "execute_result"
    }
   ],
   "source": [
    "type(a)"
   ]
  },
  {
   "cell_type": "code",
   "execution_count": 11,
   "id": "4d4382e4",
   "metadata": {},
   "outputs": [],
   "source": [
    "a = dicionario['Preço']"
   ]
  },
  {
   "cell_type": "code",
   "execution_count": 12,
   "id": "1ac993fd",
   "metadata": {},
   "outputs": [
    {
     "name": "stdout",
     "output_type": "stream",
     "text": [
      "Gratuito\n"
     ]
    }
   ],
   "source": [
    "print(a)"
   ]
  },
  {
   "cell_type": "code",
   "execution_count": 13,
   "id": "8f876bec",
   "metadata": {},
   "outputs": [
    {
     "data": {
      "text/plain": [
       "str"
      ]
     },
     "execution_count": 13,
     "metadata": {},
     "output_type": "execute_result"
    }
   ],
   "source": [
    "type(a)"
   ]
  },
  {
   "cell_type": "code",
   "execution_count": 14,
   "id": "06ceb528",
   "metadata": {},
   "outputs": [],
   "source": [
    "dicionario['Preço'] = 'R$ 300,00'"
   ]
  },
  {
   "cell_type": "code",
   "execution_count": 15,
   "id": "01fc3886",
   "metadata": {},
   "outputs": [
    {
     "name": "stdout",
     "output_type": "stream",
     "text": [
      "{'Curso': 'Python para ML', 'Produtor': 'Didática Tech', 'Preço': 'R$ 300,00', 'Nota': 10}\n"
     ]
    }
   ],
   "source": [
    "print(dicionario)"
   ]
  },
  {
   "cell_type": "code",
   "execution_count": 16,
   "id": "162815fa",
   "metadata": {},
   "outputs": [],
   "source": [
    "dicionario['Pré-requisito'] = 'Python básico'"
   ]
  },
  {
   "cell_type": "code",
   "execution_count": 17,
   "id": "d1787065",
   "metadata": {},
   "outputs": [
    {
     "name": "stdout",
     "output_type": "stream",
     "text": [
      "{'Curso': 'Python para ML', 'Produtor': 'Didática Tech', 'Preço': 'R$ 300,00', 'Nota': 10, 'Pré-requisito': 'Python básico'}\n"
     ]
    }
   ],
   "source": [
    "print(dicionario)"
   ]
  },
  {
   "cell_type": "code",
   "execution_count": 18,
   "id": "25cb7e45",
   "metadata": {},
   "outputs": [
    {
     "data": {
      "text/plain": [
       "dict_keys(['Curso', 'Produtor', 'Preço', 'Nota', 'Pré-requisito'])"
      ]
     },
     "execution_count": 18,
     "metadata": {},
     "output_type": "execute_result"
    }
   ],
   "source": [
    "dicionario.keys()"
   ]
  },
  {
   "cell_type": "code",
   "execution_count": 19,
   "id": "a4e8b2d6",
   "metadata": {},
   "outputs": [
    {
     "data": {
      "text/plain": [
       "dict_values(['Python para ML', 'Didática Tech', 'R$ 300,00', 10, 'Python básico'])"
      ]
     },
     "execution_count": 19,
     "metadata": {},
     "output_type": "execute_result"
    }
   ],
   "source": [
    "dicionario.values()"
   ]
  },
  {
   "cell_type": "code",
   "execution_count": 20,
   "id": "24c2dbc6",
   "metadata": {},
   "outputs": [
    {
     "data": {
      "text/plain": [
       "dict_items([('Curso', 'Python para ML'), ('Produtor', 'Didática Tech'), ('Preço', 'R$ 300,00'), ('Nota', 10), ('Pré-requisito', 'Python básico')])"
      ]
     },
     "execution_count": 20,
     "metadata": {},
     "output_type": "execute_result"
    }
   ],
   "source": [
    "dicionario.items()"
   ]
  },
  {
   "cell_type": "code",
   "execution_count": 21,
   "id": "d75df21a",
   "metadata": {},
   "outputs": [],
   "source": [
    "dicionario.clear()"
   ]
  },
  {
   "cell_type": "code",
   "execution_count": 22,
   "id": "5ecc082e",
   "metadata": {},
   "outputs": [
    {
     "name": "stdout",
     "output_type": "stream",
     "text": [
      "{}\n"
     ]
    }
   ],
   "source": [
    "print(dicionario)"
   ]
  },
  {
   "cell_type": "code",
   "execution_count": null,
   "id": "14373e5e",
   "metadata": {},
   "outputs": [],
   "source": []
  }
 ],
 "metadata": {
  "kernelspec": {
   "display_name": "Python 3 (ipykernel)",
   "language": "python",
   "name": "python3"
  },
  "language_info": {
   "codemirror_mode": {
    "name": "ipython",
    "version": 3
   },
   "file_extension": ".py",
   "mimetype": "text/x-python",
   "name": "python",
   "nbconvert_exporter": "python",
   "pygments_lexer": "ipython3",
   "version": "3.9.13"
  }
 },
 "nbformat": 4,
 "nbformat_minor": 5
}
