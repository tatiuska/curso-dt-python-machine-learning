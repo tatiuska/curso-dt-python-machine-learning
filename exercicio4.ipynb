{
 "cells": [
  {
   "cell_type": "code",
   "execution_count": 7,
   "id": "3545192f",
   "metadata": {},
   "outputs": [],
   "source": [
    "lista = [2, 4, 7]"
   ]
  },
  {
   "cell_type": "code",
   "execution_count": 8,
   "id": "a2ae597b",
   "metadata": {},
   "outputs": [],
   "source": [
    "a = lista[0]"
   ]
  },
  {
   "cell_type": "code",
   "execution_count": 9,
   "id": "5e086a10",
   "metadata": {},
   "outputs": [
    {
     "name": "stdout",
     "output_type": "stream",
     "text": [
      "2\n"
     ]
    }
   ],
   "source": [
    "print(a)"
   ]
  },
  {
   "cell_type": "code",
   "execution_count": 10,
   "id": "d3f585c9",
   "metadata": {},
   "outputs": [],
   "source": [
    "lista[0] = 20"
   ]
  },
  {
   "cell_type": "code",
   "execution_count": 11,
   "id": "73baf4d6",
   "metadata": {},
   "outputs": [
    {
     "name": "stdout",
     "output_type": "stream",
     "text": [
      "[20, 4, 7]\n"
     ]
    }
   ],
   "source": [
    "print(lista)"
   ]
  },
  {
   "cell_type": "code",
   "execution_count": 12,
   "id": "5ed09780",
   "metadata": {},
   "outputs": [],
   "source": [
    "tupla = (6, 8, 4)"
   ]
  },
  {
   "cell_type": "code",
   "execution_count": 13,
   "id": "49cc4094",
   "metadata": {},
   "outputs": [
    {
     "data": {
      "text/plain": [
       "6"
      ]
     },
     "execution_count": 13,
     "metadata": {},
     "output_type": "execute_result"
    }
   ],
   "source": [
    "tupla[0]"
   ]
  },
  {
   "cell_type": "code",
   "execution_count": 14,
   "id": "dec58799",
   "metadata": {},
   "outputs": [],
   "source": [
    "del lista[0]"
   ]
  },
  {
   "cell_type": "code",
   "execution_count": 15,
   "id": "d3aa3655",
   "metadata": {},
   "outputs": [
    {
     "name": "stdout",
     "output_type": "stream",
     "text": [
      "[4, 7]\n"
     ]
    }
   ],
   "source": [
    "print(lista)"
   ]
  },
  {
   "cell_type": "code",
   "execution_count": 16,
   "id": "de084c9d",
   "metadata": {},
   "outputs": [
    {
     "ename": "TypeError",
     "evalue": "'tuple' object doesn't support item deletion",
     "output_type": "error",
     "traceback": [
      "\u001b[1;31m---------------------------------------------------------------------------\u001b[0m",
      "\u001b[1;31mTypeError\u001b[0m                                 Traceback (most recent call last)",
      "\u001b[1;32m~\\AppData\\Local\\Temp\\ipykernel_2980\\203834877.py\u001b[0m in \u001b[0;36m<module>\u001b[1;34m\u001b[0m\n\u001b[1;32m----> 1\u001b[1;33m \u001b[1;32mdel\u001b[0m \u001b[0mtupla\u001b[0m\u001b[1;33m[\u001b[0m\u001b[1;36m1\u001b[0m\u001b[1;33m]\u001b[0m\u001b[1;33m\u001b[0m\u001b[1;33m\u001b[0m\u001b[0m\n\u001b[0m",
      "\u001b[1;31mTypeError\u001b[0m: 'tuple' object doesn't support item deletion"
     ]
    }
   ],
   "source": [
    "del tupla[1]"
   ]
  },
  {
   "cell_type": "code",
   "execution_count": 17,
   "id": "d7bcd8e6",
   "metadata": {},
   "outputs": [],
   "source": [
    "novaTupla = tuple(lista)"
   ]
  },
  {
   "cell_type": "code",
   "execution_count": 18,
   "id": "3f60c48a",
   "metadata": {},
   "outputs": [
    {
     "name": "stdout",
     "output_type": "stream",
     "text": [
      "(4, 7)\n"
     ]
    }
   ],
   "source": [
    "print(novaTupla)"
   ]
  },
  {
   "cell_type": "code",
   "execution_count": 19,
   "id": "5cd99bfd",
   "metadata": {},
   "outputs": [
    {
     "data": {
      "text/plain": [
       "tuple"
      ]
     },
     "execution_count": 19,
     "metadata": {},
     "output_type": "execute_result"
    }
   ],
   "source": [
    "type(novaTupla)"
   ]
  },
  {
   "cell_type": "code",
   "execution_count": 20,
   "id": "8d15c7ae",
   "metadata": {},
   "outputs": [],
   "source": [
    "numero = (3)"
   ]
  },
  {
   "cell_type": "code",
   "execution_count": 21,
   "id": "80857923",
   "metadata": {},
   "outputs": [
    {
     "data": {
      "text/plain": [
       "int"
      ]
     },
     "execution_count": 21,
     "metadata": {},
     "output_type": "execute_result"
    }
   ],
   "source": [
    "type(numero)"
   ]
  },
  {
   "cell_type": "code",
   "execution_count": 22,
   "id": "4f2ab360",
   "metadata": {},
   "outputs": [],
   "source": [
    "numero = (3,)"
   ]
  },
  {
   "cell_type": "code",
   "execution_count": 23,
   "id": "e8d0ac4a",
   "metadata": {},
   "outputs": [
    {
     "data": {
      "text/plain": [
       "tuple"
      ]
     },
     "execution_count": 23,
     "metadata": {},
     "output_type": "execute_result"
    }
   ],
   "source": [
    "type(numero)"
   ]
  },
  {
   "cell_type": "code",
   "execution_count": null,
   "id": "ad42fcad",
   "metadata": {},
   "outputs": [],
   "source": []
  }
 ],
 "metadata": {
  "kernelspec": {
   "display_name": "Python 3 (ipykernel)",
   "language": "python",
   "name": "python3"
  },
  "language_info": {
   "codemirror_mode": {
    "name": "ipython",
    "version": 3
   },
   "file_extension": ".py",
   "mimetype": "text/x-python",
   "name": "python",
   "nbconvert_exporter": "python",
   "pygments_lexer": "ipython3",
   "version": "3.9.13"
  }
 },
 "nbformat": 4,
 "nbformat_minor": 5
}
