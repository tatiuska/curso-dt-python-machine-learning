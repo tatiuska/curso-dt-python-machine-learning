{
 "cells": [
  {
   "cell_type": "code",
   "execution_count": 5,
   "id": "10af718a",
   "metadata": {},
   "outputs": [],
   "source": [
    "import pandas as pd\n",
    "candidatosDIC = {'Nome':['Patrícia', 'Leonardo', 'Thaís', 'Diego', 'Luciano'],\n",
    "                'Nota':[7, 5.5, 8, 7, 6], \n",
    "                'Aprovado':['Sim', 'Não', 'Sim', 'Sim', 'Não']}"
   ]
  },
  {
   "cell_type": "code",
   "execution_count": 6,
   "id": "5726fdec",
   "metadata": {},
   "outputs": [],
   "source": [
    "candidatosDF = pd.DataFrame(candidatosDIC)"
   ]
  },
  {
   "cell_type": "code",
   "execution_count": 7,
   "id": "d7bd8563",
   "metadata": {},
   "outputs": [
    {
     "name": "stdout",
     "output_type": "stream",
     "text": [
      "       Nome  Nota Aprovado\n",
      "0  Patrícia   7.0      Sim\n",
      "1  Leonardo   5.5      Não\n",
      "2     Thaís   8.0      Sim\n",
      "3     Diego   7.0      Sim\n",
      "4   Luciano   6.0      Não\n"
     ]
    }
   ],
   "source": [
    "print(candidatosDF)"
   ]
  },
  {
   "cell_type": "code",
   "execution_count": 10,
   "id": "b221dd31",
   "metadata": {},
   "outputs": [],
   "source": [
    "primeirasLinhas = candidatosDF.loc[0:2]"
   ]
  },
  {
   "cell_type": "code",
   "execution_count": 11,
   "id": "6599eb3c",
   "metadata": {},
   "outputs": [
    {
     "name": "stdout",
     "output_type": "stream",
     "text": [
      "       Nome  Nota Aprovado\n",
      "0  Patrícia   7.0      Sim\n",
      "1  Leonardo   5.5      Não\n",
      "2     Thaís   8.0      Sim\n"
     ]
    }
   ],
   "source": [
    "print(primeirasLinhas)"
   ]
  },
  {
   "cell_type": "code",
   "execution_count": 15,
   "id": "0c0a9d88",
   "metadata": {},
   "outputs": [],
   "source": [
    "novoDF = candidatosDF.loc[candidatosDF['Nota']!=7]"
   ]
  },
  {
   "cell_type": "code",
   "execution_count": 16,
   "id": "a705c83c",
   "metadata": {},
   "outputs": [
    {
     "name": "stdout",
     "output_type": "stream",
     "text": [
      "       Nome  Nota Aprovado\n",
      "1  Leonardo   5.5      Não\n",
      "2     Thaís   8.0      Sim\n",
      "4   Luciano   6.0      Não\n"
     ]
    }
   ],
   "source": [
    "print(novoDF)"
   ]
  },
  {
   "cell_type": "code",
   "execution_count": 17,
   "id": "b0b9e4d0",
   "metadata": {},
   "outputs": [],
   "source": [
    "alunosReprovados = candidatosDF.loc[candidatosDF['Aprovado']!='Sim']"
   ]
  },
  {
   "cell_type": "code",
   "execution_count": 18,
   "id": "4623cfb9",
   "metadata": {},
   "outputs": [
    {
     "data": {
      "text/html": [
       "<div>\n",
       "<style scoped>\n",
       "    .dataframe tbody tr th:only-of-type {\n",
       "        vertical-align: middle;\n",
       "    }\n",
       "\n",
       "    .dataframe tbody tr th {\n",
       "        vertical-align: top;\n",
       "    }\n",
       "\n",
       "    .dataframe thead th {\n",
       "        text-align: right;\n",
       "    }\n",
       "</style>\n",
       "<table border=\"1\" class=\"dataframe\">\n",
       "  <thead>\n",
       "    <tr style=\"text-align: right;\">\n",
       "      <th></th>\n",
       "      <th>Nome</th>\n",
       "      <th>Nota</th>\n",
       "      <th>Aprovado</th>\n",
       "    </tr>\n",
       "  </thead>\n",
       "  <tbody>\n",
       "    <tr>\n",
       "      <th>1</th>\n",
       "      <td>Leonardo</td>\n",
       "      <td>5.5</td>\n",
       "      <td>Não</td>\n",
       "    </tr>\n",
       "    <tr>\n",
       "      <th>4</th>\n",
       "      <td>Luciano</td>\n",
       "      <td>6.0</td>\n",
       "      <td>Não</td>\n",
       "    </tr>\n",
       "  </tbody>\n",
       "</table>\n",
       "</div>"
      ],
      "text/plain": [
       "       Nome  Nota Aprovado\n",
       "1  Leonardo   5.5      Não\n",
       "4   Luciano   6.0      Não"
      ]
     },
     "execution_count": 18,
     "metadata": {},
     "output_type": "execute_result"
    }
   ],
   "source": [
    "pd.DataFrame(alunosReprovados)"
   ]
  },
  {
   "cell_type": "code",
   "execution_count": null,
   "id": "7cc21f20",
   "metadata": {},
   "outputs": [],
   "source": []
  }
 ],
 "metadata": {
  "kernelspec": {
   "display_name": "Python 3 (ipykernel)",
   "language": "python",
   "name": "python3"
  },
  "language_info": {
   "codemirror_mode": {
    "name": "ipython",
    "version": 3
   },
   "file_extension": ".py",
   "mimetype": "text/x-python",
   "name": "python",
   "nbconvert_exporter": "python",
   "pygments_lexer": "ipython3",
   "version": "3.9.13"
  }
 },
 "nbformat": 4,
 "nbformat_minor": 5
}
