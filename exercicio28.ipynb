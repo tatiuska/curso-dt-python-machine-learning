{
 "cells": [
  {
   "cell_type": "code",
   "execution_count": 1,
   "id": "7e9e552f",
   "metadata": {},
   "outputs": [
    {
     "data": {
      "text/html": [
       "<div>\n",
       "<style scoped>\n",
       "    .dataframe tbody tr th:only-of-type {\n",
       "        vertical-align: middle;\n",
       "    }\n",
       "\n",
       "    .dataframe tbody tr th {\n",
       "        vertical-align: top;\n",
       "    }\n",
       "\n",
       "    .dataframe thead th {\n",
       "        text-align: right;\n",
       "    }\n",
       "</style>\n",
       "<table border=\"1\" class=\"dataframe\">\n",
       "  <thead>\n",
       "    <tr style=\"text-align: right;\">\n",
       "      <th></th>\n",
       "      <th>Date</th>\n",
       "      <th>Open</th>\n",
       "      <th>High</th>\n",
       "      <th>Low</th>\n",
       "      <th>Close</th>\n",
       "      <th>Adj Close</th>\n",
       "      <th>Volume</th>\n",
       "    </tr>\n",
       "  </thead>\n",
       "  <tbody>\n",
       "    <tr>\n",
       "      <th>0</th>\n",
       "      <td>1950-01-03</td>\n",
       "      <td>16.66</td>\n",
       "      <td>16.66</td>\n",
       "      <td>16.66</td>\n",
       "      <td>16.66</td>\n",
       "      <td>16.66</td>\n",
       "      <td>1260000</td>\n",
       "    </tr>\n",
       "    <tr>\n",
       "      <th>1</th>\n",
       "      <td>1950-01-04</td>\n",
       "      <td>16.85</td>\n",
       "      <td>16.85</td>\n",
       "      <td>16.85</td>\n",
       "      <td>16.85</td>\n",
       "      <td>16.85</td>\n",
       "      <td>1890000</td>\n",
       "    </tr>\n",
       "    <tr>\n",
       "      <th>2</th>\n",
       "      <td>1950-01-05</td>\n",
       "      <td>16.93</td>\n",
       "      <td>16.93</td>\n",
       "      <td>16.93</td>\n",
       "      <td>16.93</td>\n",
       "      <td>16.93</td>\n",
       "      <td>2550000</td>\n",
       "    </tr>\n",
       "    <tr>\n",
       "      <th>3</th>\n",
       "      <td>1950-01-06</td>\n",
       "      <td>16.98</td>\n",
       "      <td>16.98</td>\n",
       "      <td>16.98</td>\n",
       "      <td>16.98</td>\n",
       "      <td>16.98</td>\n",
       "      <td>2010000</td>\n",
       "    </tr>\n",
       "    <tr>\n",
       "      <th>4</th>\n",
       "      <td>1950-01-09</td>\n",
       "      <td>17.08</td>\n",
       "      <td>17.08</td>\n",
       "      <td>17.08</td>\n",
       "      <td>17.08</td>\n",
       "      <td>17.08</td>\n",
       "      <td>2520000</td>\n",
       "    </tr>\n",
       "  </tbody>\n",
       "</table>\n",
       "</div>"
      ],
      "text/plain": [
       "         Date   Open   High    Low  Close  Adj Close   Volume\n",
       "0  1950-01-03  16.66  16.66  16.66  16.66      16.66  1260000\n",
       "1  1950-01-04  16.85  16.85  16.85  16.85      16.85  1890000\n",
       "2  1950-01-05  16.93  16.93  16.93  16.93      16.93  2550000\n",
       "3  1950-01-06  16.98  16.98  16.98  16.98      16.98  2010000\n",
       "4  1950-01-09  17.08  17.08  17.08  17.08      17.08  2520000"
      ]
     },
     "execution_count": 1,
     "metadata": {},
     "output_type": "execute_result"
    }
   ],
   "source": [
    "import pandas as pd #importa a biblioteca pandas\n",
    "df = pd.read_csv('D:/DidaticaTech/GSPC.csv') #usa a função .read_csv para abrir o dataset\n",
    "df.head() #exibe as cinco primeiras linhas do dataset"
   ]
  },
  {
   "cell_type": "code",
   "execution_count": 2,
   "id": "035651b9",
   "metadata": {},
   "outputs": [],
   "source": [
    "df = df.drop('Date', axis = 1) #retira a coluna Date do dataset"
   ]
  },
  {
   "cell_type": "code",
   "execution_count": 3,
   "id": "51c23be4",
   "metadata": {},
   "outputs": [
    {
     "data": {
      "text/html": [
       "<div>\n",
       "<style scoped>\n",
       "    .dataframe tbody tr th:only-of-type {\n",
       "        vertical-align: middle;\n",
       "    }\n",
       "\n",
       "    .dataframe tbody tr th {\n",
       "        vertical-align: top;\n",
       "    }\n",
       "\n",
       "    .dataframe thead th {\n",
       "        text-align: right;\n",
       "    }\n",
       "</style>\n",
       "<table border=\"1\" class=\"dataframe\">\n",
       "  <thead>\n",
       "    <tr style=\"text-align: right;\">\n",
       "      <th></th>\n",
       "      <th>Open</th>\n",
       "      <th>High</th>\n",
       "      <th>Low</th>\n",
       "      <th>Close</th>\n",
       "      <th>Adj Close</th>\n",
       "      <th>Volume</th>\n",
       "    </tr>\n",
       "  </thead>\n",
       "  <tbody>\n",
       "    <tr>\n",
       "      <th>17216</th>\n",
       "      <td>2748.459961</td>\n",
       "      <td>2752.610107</td>\n",
       "      <td>2739.510010</td>\n",
       "      <td>2748.800049</td>\n",
       "      <td>2748.800049</td>\n",
       "      <td>3517790000</td>\n",
       "    </tr>\n",
       "    <tr>\n",
       "      <th>17217</th>\n",
       "      <td>2753.250000</td>\n",
       "      <td>2772.389893</td>\n",
       "      <td>2748.459961</td>\n",
       "      <td>2772.350098</td>\n",
       "      <td>2772.350098</td>\n",
       "      <td>3651640000</td>\n",
       "    </tr>\n",
       "  </tbody>\n",
       "</table>\n",
       "</div>"
      ],
      "text/plain": [
       "              Open         High          Low        Close    Adj Close  \\\n",
       "17216  2748.459961  2752.610107  2739.510010  2748.800049  2748.800049   \n",
       "17217  2753.250000  2772.389893  2748.459961  2772.350098  2772.350098   \n",
       "\n",
       "           Volume  \n",
       "17216  3517790000  \n",
       "17217  3651640000  "
      ]
     },
     "execution_count": 3,
     "metadata": {},
     "output_type": "execute_result"
    }
   ],
   "source": [
    "df[-2::] #conferência das últimas duas linhas do dataset\n",
    "\n",
    "#as duas últimas linhas serão separadas em dois datasets: Hoje.csv e Futuro.csv"
   ]
  },
  {
   "cell_type": "code",
   "execution_count": 4,
   "id": "c89ab3f6",
   "metadata": {},
   "outputs": [],
   "source": [
    "#a variável amanha irá receber a última linha do dataset\n",
    "amanha = df[-1::]\n",
    "amanha.to_csv('D:/DidaticaTech/Futuro.csv', index=False)"
   ]
  },
  {
   "cell_type": "code",
   "execution_count": 5,
   "id": "960357e8",
   "metadata": {},
   "outputs": [],
   "source": [
    "#variável base para conter todo o dataset, menos a última linha\n",
    "base = df.drop(df[-10::].index, axis = 0)\n",
    "base.to_csv('D:/DidaticaTech/Hoje.csv', index=False)"
   ]
  },
  {
   "cell_type": "code",
   "execution_count": null,
   "id": "a2dbaa58",
   "metadata": {},
   "outputs": [],
   "source": [
    "#variável/coluna target irá receber o valor do fechamento 'Close' do dia de amanhã (linha 17215), e salva com um índice diferente (1)\n",
    "#o fechamento do dia 1 será movido para o índice 0, e o fechamento da linha 17216 será salvo na variável target, na linha 17215.\n",
    "#reseta-se os índices para não dar problema.\n",
    "base['target'] = base['Close'][1:len(base)].reset_index(drop=True)\n",
    "base.tail()"
   ]
  },
  {
   "cell_type": "code",
   "execution_count": null,
   "id": "d94b1c7b",
   "metadata": {},
   "outputs": [],
   "source": [
    "#salvando a última linha 17216 na variável prev\n",
    "prev = base[-1::].drop('target', axis = 1)\n",
    "prev"
   ]
  },
  {
   "cell_type": "code",
   "execution_count": null,
   "id": "cba6fea7",
   "metadata": {},
   "outputs": [],
   "source": [
    "#retiando a última linha da base de dados e salvando o restante na variável treino\n",
    "treino = base.drop(base[-1::].index, axis = 0)\n",
    "treino.tail()"
   ]
  },
  {
   "cell_type": "code",
   "execution_count": null,
   "id": "6847c70b",
   "metadata": {},
   "outputs": [],
   "source": [
    "#alterando o valor de target sempre que uma condição for atendida. \n",
    "#sempre que o valor de target for maior que o de Close, target receberá o valor de 1 (teve um aumento).\n",
    "treino.loc[treino['target'] > treino['Close'], 'target'] = 1\n",
    "treino.tail()"
   ]
  },
  {
   "cell_type": "code",
   "execution_count": null,
   "id": "3a6fa4ab",
   "metadata": {},
   "outputs": [],
   "source": [
    "#sempre que o valor de target for menor do que o do fechamento (Close), target receberá o valor de 0.\n",
    "treino.loc[treino['target'] != 1, 'target'] = 0\n",
    "treino.tail()"
   ]
  },
  {
   "cell_type": "code",
   "execution_count": null,
   "id": "ec6ada17",
   "metadata": {},
   "outputs": [],
   "source": [
    "#modelo preditivo para treino\n",
    "y = treino['target']\n",
    "x = treino.drop('target', axis = 1)\n",
    "\n",
    "from sklearn.model_selection import train_test_split\n",
    "x_treino, x_teste, y_treino, y_teste = train_test_split(x, y, test_size = 0.3) #30% teste, 70% treino\n",
    "\n",
    "from sklearn.ensemble import ExtraTreesClassifier\n",
    "modelo = ExtraTreesClassifier()\n",
    "modelo.fit(x_treino, y_treino)\n",
    "\n",
    "resultado = modelo.score(x_teste, y_teste)\n",
    "print(\"Acurácia:\", resultado)\n",
    "#a acurácia em torno de 50% não é boa. esse modelo não poderia ser usado em produção."
   ]
  },
  {
   "cell_type": "code",
   "execution_count": null,
   "id": "af29ffa3",
   "metadata": {},
   "outputs": [],
   "source": [
    "print(resultado)"
   ]
  },
  {
   "cell_type": "code",
   "execution_count": null,
   "id": "4c14c896",
   "metadata": {},
   "outputs": [],
   "source": [
    "prev"
   ]
  },
  {
   "cell_type": "code",
   "execution_count": null,
   "id": "52cd0ddc",
   "metadata": {},
   "outputs": [],
   "source": [
    "modelo.predict(prev)"
   ]
  },
  {
   "cell_type": "code",
   "execution_count": null,
   "id": "90cea6b8",
   "metadata": {},
   "outputs": [],
   "source": [
    "#criou a variável/coluna target na variável prev\n",
    "prev['target'] = modelo.predict(prev)\n",
    "prev"
   ]
  },
  {
   "cell_type": "code",
   "execution_count": null,
   "id": "107eb1d6",
   "metadata": {},
   "outputs": [],
   "source": [
    "#salvando prev no formato .csv\n",
    "prev.to_csv('D:/DidaticaTech/Prev.csv', index=False)"
   ]
  },
  {
   "cell_type": "code",
   "execution_count": null,
   "id": "f95ab9d9",
   "metadata": {},
   "outputs": [],
   "source": [
    "amanha"
   ]
  },
  {
   "cell_type": "code",
   "execution_count": null,
   "id": "caa4e7e0",
   "metadata": {},
   "outputs": [],
   "source": [
    "base.tail()"
   ]
  },
  {
   "cell_type": "code",
   "execution_count": null,
   "id": "57736d21",
   "metadata": {},
   "outputs": [],
   "source": [
    "#anexando os dados da variável amanha na base de treino.\n",
    "base = base.append(amanha, sort=True)\n",
    "base.tail() #comando que mostra as últimas cinco linhas da base de dados"
   ]
  },
  {
   "cell_type": "code",
   "execution_count": null,
   "id": "2ed8d295",
   "metadata": {},
   "outputs": [],
   "source": []
  }
 ],
 "metadata": {
  "kernelspec": {
   "display_name": "Python 3 (ipykernel)",
   "language": "python",
   "name": "python3"
  },
  "language_info": {
   "codemirror_mode": {
    "name": "ipython",
    "version": 3
   },
   "file_extension": ".py",
   "mimetype": "text/x-python",
   "name": "python",
   "nbconvert_exporter": "python",
   "pygments_lexer": "ipython3",
   "version": "3.9.13"
  }
 },
 "nbformat": 4,
 "nbformat_minor": 5
}
