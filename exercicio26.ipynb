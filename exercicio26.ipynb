{
 "cells": [
  {
   "cell_type": "code",
   "execution_count": 1,
   "id": "b2b9ebfa",
   "metadata": {},
   "outputs": [],
   "source": [
    "def teste(v, i):\n",
    "    valor = v\n",
    "    incremento = i\n",
    "    resultado = valor + incremento\n",
    "    return resultado"
   ]
  },
  {
   "cell_type": "code",
   "execution_count": 2,
   "id": "bf2fefe4",
   "metadata": {},
   "outputs": [],
   "source": [
    "a = teste(10,1)"
   ]
  },
  {
   "cell_type": "code",
   "execution_count": 3,
   "id": "637f954f",
   "metadata": {},
   "outputs": [
    {
     "data": {
      "text/plain": [
       "11"
      ]
     },
     "execution_count": 3,
     "metadata": {},
     "output_type": "execute_result"
    }
   ],
   "source": [
    "a"
   ]
  },
  {
   "cell_type": "code",
   "execution_count": 9,
   "id": "e07df6f8",
   "metadata": {},
   "outputs": [
    {
     "ename": "NameError",
     "evalue": "name 'resultado' is not defined",
     "output_type": "error",
     "traceback": [
      "\u001b[1;31m---------------------------------------------------------------------------\u001b[0m",
      "\u001b[1;31mNameError\u001b[0m                                 Traceback (most recent call last)",
      "\u001b[1;32m~\\AppData\\Local\\Temp\\ipykernel_61512\\4210840556.py\u001b[0m in \u001b[0;36m<module>\u001b[1;34m\u001b[0m\n\u001b[1;32m----> 1\u001b[1;33m \u001b[0mresultado\u001b[0m \u001b[1;31m#Resultado é uma variável local - existe apenas dentro da função, por isso dá erro\u001b[0m\u001b[1;33m\u001b[0m\u001b[1;33m\u001b[0m\u001b[0m\n\u001b[0m",
      "\u001b[1;31mNameError\u001b[0m: name 'resultado' is not defined"
     ]
    }
   ],
   "source": [
    "resultado #Resultado é uma variável local - existe apenas dentro da função, por isso dá erro"
   ]
  },
  {
   "cell_type": "code",
   "execution_count": 3,
   "id": "eae6a546",
   "metadata": {},
   "outputs": [],
   "source": [
    "#Classes e métodos\n",
    "class DidaticaTech:\n",
    "    def incrementa(self, v, i):\n",
    "        valor = v\n",
    "        incremento = i\n",
    "        resultado = valor + incremento\n",
    "        return resultado"
   ]
  },
  {
   "cell_type": "code",
   "execution_count": 6,
   "id": "31d2ecab",
   "metadata": {},
   "outputs": [],
   "source": [
    "a = DidaticaTech()"
   ]
  },
  {
   "cell_type": "code",
   "execution_count": 7,
   "id": "3828c51e",
   "metadata": {},
   "outputs": [],
   "source": [
    "b = a.incrementa(10, 1)"
   ]
  },
  {
   "cell_type": "code",
   "execution_count": 8,
   "id": "bd064ef1",
   "metadata": {},
   "outputs": [
    {
     "data": {
      "text/plain": [
       "11"
      ]
     },
     "execution_count": 8,
     "metadata": {},
     "output_type": "execute_result"
    }
   ],
   "source": [
    "b"
   ]
  },
  {
   "cell_type": "code",
   "execution_count": 10,
   "id": "247c27c4",
   "metadata": {},
   "outputs": [],
   "source": [
    "a = DidaticaTech().incrementa(10, 1)"
   ]
  },
  {
   "cell_type": "code",
   "execution_count": 11,
   "id": "9896d33a",
   "metadata": {},
   "outputs": [
    {
     "data": {
      "text/plain": [
       "11"
      ]
     },
     "execution_count": 11,
     "metadata": {},
     "output_type": "execute_result"
    }
   ],
   "source": [
    "a"
   ]
  },
  {
   "cell_type": "code",
   "execution_count": 4,
   "id": "e0d3bd38",
   "metadata": {},
   "outputs": [],
   "source": [
    "class DidaticaTech:\n",
    "    def incrementa(self, v, i):\n",
    "        self.valor = v\n",
    "        self.incremento = i\n",
    "        self.resultado = self.valor + self.incremento\n",
    "        return self.resultado"
   ]
  },
  {
   "cell_type": "code",
   "execution_count": 13,
   "id": "7d3fedf2",
   "metadata": {},
   "outputs": [],
   "source": [
    "a = DidaticaTech()"
   ]
  },
  {
   "cell_type": "code",
   "execution_count": 14,
   "id": "9108ed88",
   "metadata": {},
   "outputs": [],
   "source": [
    "b = a.incrementa(10, 1)"
   ]
  },
  {
   "cell_type": "code",
   "execution_count": 15,
   "id": "637ead09",
   "metadata": {},
   "outputs": [
    {
     "data": {
      "text/plain": [
       "11"
      ]
     },
     "execution_count": 15,
     "metadata": {},
     "output_type": "execute_result"
    }
   ],
   "source": [
    "b"
   ]
  },
  {
   "cell_type": "code",
   "execution_count": 16,
   "id": "39a8bbc3",
   "metadata": {},
   "outputs": [
    {
     "data": {
      "text/plain": [
       "10"
      ]
     },
     "execution_count": 16,
     "metadata": {},
     "output_type": "execute_result"
    }
   ],
   "source": [
    "a.valor"
   ]
  },
  {
   "cell_type": "code",
   "execution_count": 5,
   "id": "729a5739",
   "metadata": {},
   "outputs": [],
   "source": [
    "class DidaticaTech:\n",
    "    def __init__(self, v: int, i: int):\n",
    "        self.valor = v\n",
    "        self.incremento = i\n",
    "    def incrementa(self):\n",
    "        self.valor = self.valor + self.incremento"
   ]
  },
  {
   "cell_type": "code",
   "execution_count": 18,
   "id": "7c1b402f",
   "metadata": {},
   "outputs": [],
   "source": [
    "a = DidaticaTech(10, 1)"
   ]
  },
  {
   "cell_type": "code",
   "execution_count": 19,
   "id": "02b02c8a",
   "metadata": {},
   "outputs": [],
   "source": [
    "a.incrementa()"
   ]
  },
  {
   "cell_type": "code",
   "execution_count": 20,
   "id": "f2ec882c",
   "metadata": {},
   "outputs": [
    {
     "data": {
      "text/plain": [
       "11"
      ]
     },
     "execution_count": 20,
     "metadata": {},
     "output_type": "execute_result"
    }
   ],
   "source": [
    "a.valor"
   ]
  },
  {
   "cell_type": "code",
   "execution_count": 21,
   "id": "08d8a1a3",
   "metadata": {},
   "outputs": [],
   "source": [
    "a.incrementa()"
   ]
  },
  {
   "cell_type": "code",
   "execution_count": 22,
   "id": "a8fc146a",
   "metadata": {},
   "outputs": [
    {
     "data": {
      "text/plain": [
       "12"
      ]
     },
     "execution_count": 22,
     "metadata": {},
     "output_type": "execute_result"
    }
   ],
   "source": [
    "a.valor"
   ]
  },
  {
   "cell_type": "code",
   "execution_count": 23,
   "id": "9f05b660",
   "metadata": {},
   "outputs": [],
   "source": [
    "b = DidaticaTech(10, 1)"
   ]
  },
  {
   "cell_type": "code",
   "execution_count": 24,
   "id": "6b0f0853",
   "metadata": {},
   "outputs": [],
   "source": [
    "b.incrementa()"
   ]
  },
  {
   "cell_type": "code",
   "execution_count": 25,
   "id": "1a5038c3",
   "metadata": {},
   "outputs": [
    {
     "data": {
      "text/plain": [
       "11"
      ]
     },
     "execution_count": 25,
     "metadata": {},
     "output_type": "execute_result"
    }
   ],
   "source": [
    "b.valor"
   ]
  },
  {
   "cell_type": "code",
   "execution_count": 6,
   "id": "0c4108d8",
   "metadata": {},
   "outputs": [],
   "source": [
    "class DidaticaTech:\n",
    "    def __init__(self, v=10, i=1):\n",
    "        self.valor = v\n",
    "        self.incremento = i\n",
    "    def incrementa(self):\n",
    "        self.valor += self.incremento"
   ]
  },
  {
   "cell_type": "code",
   "execution_count": 27,
   "id": "ee2b797c",
   "metadata": {},
   "outputs": [],
   "source": [
    "a = DidaticaTech()"
   ]
  },
  {
   "cell_type": "code",
   "execution_count": 28,
   "id": "e84d3881",
   "metadata": {},
   "outputs": [],
   "source": [
    "a.incrementa()"
   ]
  },
  {
   "cell_type": "code",
   "execution_count": 29,
   "id": "a22919fa",
   "metadata": {},
   "outputs": [
    {
     "data": {
      "text/plain": [
       "11"
      ]
     },
     "execution_count": 29,
     "metadata": {},
     "output_type": "execute_result"
    }
   ],
   "source": [
    "a.valor"
   ]
  },
  {
   "cell_type": "code",
   "execution_count": 30,
   "id": "879ce9cc",
   "metadata": {},
   "outputs": [],
   "source": [
    "a = DidaticaTech(20, 3)"
   ]
  },
  {
   "cell_type": "code",
   "execution_count": 31,
   "id": "2ae8ff0a",
   "metadata": {},
   "outputs": [
    {
     "data": {
      "text/plain": [
       "20"
      ]
     },
     "execution_count": 31,
     "metadata": {},
     "output_type": "execute_result"
    }
   ],
   "source": [
    "a.valor"
   ]
  },
  {
   "cell_type": "code",
   "execution_count": 32,
   "id": "de184f0f",
   "metadata": {},
   "outputs": [],
   "source": [
    "a.incrementa()"
   ]
  },
  {
   "cell_type": "code",
   "execution_count": 33,
   "id": "df208c10",
   "metadata": {},
   "outputs": [
    {
     "data": {
      "text/plain": [
       "23"
      ]
     },
     "execution_count": 33,
     "metadata": {},
     "output_type": "execute_result"
    }
   ],
   "source": [
    "a.valor"
   ]
  },
  {
   "cell_type": "code",
   "execution_count": 1,
   "id": "bdbab0ba",
   "metadata": {},
   "outputs": [],
   "source": [
    "# Depois de instanciarmos a = DidaticaTech(), quando executamos a.incrementa(), o que o interpretador está fazendo é: \n",
    "# DidaticaTech().incrementa(a, 10, 1)"
   ]
  },
  {
   "cell_type": "code",
   "execution_count": 8,
   "id": "13fa3886",
   "metadata": {},
   "outputs": [],
   "source": [
    "class DidaticaTech:\n",
    "    def __init__(self, v=10, i=1):\n",
    "        self.valor = v\n",
    "        self.incremento = i\n",
    "        self.valor_exponencial = v\n",
    "    def incrementa(self):\n",
    "        self.valor = self.valor + self.incremento\n",
    "    def verifica(self):\n",
    "        if self.valor > 12:\n",
    "            print(\"Ultrapassou 12\")\n",
    "        else:\n",
    "            print(\"Não ultrapassou 12\")\n",
    "    def exponencial(self, e):\n",
    "        self.valor_exponencial = self.valor**e\n",
    "    def incrementa_quadrado(self):\n",
    "        self.incrementa()\n",
    "        self.exponencial(2)"
   ]
  },
  {
   "cell_type": "code",
   "execution_count": 9,
   "id": "8686ba26",
   "metadata": {},
   "outputs": [],
   "source": [
    "a = DidaticaTech()"
   ]
  },
  {
   "cell_type": "code",
   "execution_count": 10,
   "id": "c4f6fac9",
   "metadata": {},
   "outputs": [],
   "source": [
    "a.incrementa()"
   ]
  },
  {
   "cell_type": "code",
   "execution_count": 11,
   "id": "58faa966",
   "metadata": {},
   "outputs": [
    {
     "data": {
      "text/plain": [
       "11"
      ]
     },
     "execution_count": 11,
     "metadata": {},
     "output_type": "execute_result"
    }
   ],
   "source": [
    "a.valor"
   ]
  },
  {
   "cell_type": "code",
   "execution_count": 12,
   "id": "299d0897",
   "metadata": {},
   "outputs": [
    {
     "name": "stdout",
     "output_type": "stream",
     "text": [
      "Não ultrapassou 12\n"
     ]
    }
   ],
   "source": [
    "a.verifica()"
   ]
  },
  {
   "cell_type": "code",
   "execution_count": 14,
   "id": "ab4f4fc7",
   "metadata": {},
   "outputs": [],
   "source": [
    "a.exponencial(3)"
   ]
  },
  {
   "cell_type": "code",
   "execution_count": 16,
   "id": "b905fb03",
   "metadata": {},
   "outputs": [
    {
     "data": {
      "text/plain": [
       "1331"
      ]
     },
     "execution_count": 16,
     "metadata": {},
     "output_type": "execute_result"
    }
   ],
   "source": [
    "a.valor_exponencial"
   ]
  },
  {
   "cell_type": "code",
   "execution_count": 17,
   "id": "c1f5fbcd",
   "metadata": {},
   "outputs": [],
   "source": [
    "a.incrementa_quadrado()"
   ]
  },
  {
   "cell_type": "code",
   "execution_count": 18,
   "id": "ec586294",
   "metadata": {},
   "outputs": [
    {
     "data": {
      "text/plain": [
       "12"
      ]
     },
     "execution_count": 18,
     "metadata": {},
     "output_type": "execute_result"
    }
   ],
   "source": [
    "a.valor"
   ]
  },
  {
   "cell_type": "code",
   "execution_count": 19,
   "id": "a222487c",
   "metadata": {},
   "outputs": [
    {
     "data": {
      "text/plain": [
       "144"
      ]
     },
     "execution_count": 19,
     "metadata": {},
     "output_type": "execute_result"
    }
   ],
   "source": [
    "a.valor_exponencial"
   ]
  },
  {
   "cell_type": "code",
   "execution_count": 21,
   "id": "40f89395",
   "metadata": {},
   "outputs": [],
   "source": [
    "b = DidaticaTech(50, 5)"
   ]
  },
  {
   "cell_type": "code",
   "execution_count": 22,
   "id": "7ef92c77",
   "metadata": {},
   "outputs": [
    {
     "data": {
      "text/plain": [
       "50"
      ]
     },
     "execution_count": 22,
     "metadata": {},
     "output_type": "execute_result"
    }
   ],
   "source": [
    "b.valor"
   ]
  },
  {
   "cell_type": "code",
   "execution_count": 23,
   "id": "6464012f",
   "metadata": {},
   "outputs": [],
   "source": [
    "b.incrementa()"
   ]
  },
  {
   "cell_type": "code",
   "execution_count": 24,
   "id": "2cbe02bf",
   "metadata": {},
   "outputs": [
    {
     "data": {
      "text/plain": [
       "55"
      ]
     },
     "execution_count": 24,
     "metadata": {},
     "output_type": "execute_result"
    }
   ],
   "source": [
    "b.valor"
   ]
  },
  {
   "cell_type": "code",
   "execution_count": 25,
   "id": "a2614170",
   "metadata": {},
   "outputs": [
    {
     "name": "stdout",
     "output_type": "stream",
     "text": [
      "Ultrapassou 12\n"
     ]
    }
   ],
   "source": [
    "b.verifica()"
   ]
  },
  {
   "cell_type": "code",
   "execution_count": 26,
   "id": "1fe24902",
   "metadata": {},
   "outputs": [],
   "source": [
    "b.exponencial(5)"
   ]
  },
  {
   "cell_type": "code",
   "execution_count": 27,
   "id": "2e1839df",
   "metadata": {},
   "outputs": [
    {
     "data": {
      "text/plain": [
       "503284375"
      ]
     },
     "execution_count": 27,
     "metadata": {},
     "output_type": "execute_result"
    }
   ],
   "source": [
    "b.valor_exponencial"
   ]
  },
  {
   "cell_type": "code",
   "execution_count": 29,
   "id": "c057a12f",
   "metadata": {},
   "outputs": [],
   "source": [
    "b.incrementa_quadrado()"
   ]
  },
  {
   "cell_type": "code",
   "execution_count": 30,
   "id": "69db190d",
   "metadata": {},
   "outputs": [
    {
     "data": {
      "text/plain": [
       "60"
      ]
     },
     "execution_count": 30,
     "metadata": {},
     "output_type": "execute_result"
    }
   ],
   "source": [
    "b.valor"
   ]
  },
  {
   "cell_type": "code",
   "execution_count": 31,
   "id": "4ad7346e",
   "metadata": {},
   "outputs": [],
   "source": [
    "# Herança\n",
    "class Calculos(DidaticaTech):\n",
    "    pass"
   ]
  },
  {
   "cell_type": "code",
   "execution_count": 32,
   "id": "07e30e91",
   "metadata": {},
   "outputs": [],
   "source": [
    "c = Calculos()"
   ]
  },
  {
   "cell_type": "code",
   "execution_count": 33,
   "id": "7f688556",
   "metadata": {},
   "outputs": [],
   "source": [
    "c.incrementa_quadrado()"
   ]
  },
  {
   "cell_type": "code",
   "execution_count": 34,
   "id": "114b6256",
   "metadata": {},
   "outputs": [
    {
     "data": {
      "text/plain": [
       "121"
      ]
     },
     "execution_count": 34,
     "metadata": {},
     "output_type": "execute_result"
    }
   ],
   "source": [
    "c.valor_exponencial"
   ]
  },
  {
   "cell_type": "code",
   "execution_count": 35,
   "id": "e68d2b57",
   "metadata": {},
   "outputs": [],
   "source": [
    "class Calculos(DidaticaTech):\n",
    "    def decrementa(self):\n",
    "        self.valor = self.valor - self.incremento"
   ]
  },
  {
   "cell_type": "code",
   "execution_count": 36,
   "id": "c8cb4567",
   "metadata": {},
   "outputs": [],
   "source": [
    "c = Calculos()"
   ]
  },
  {
   "cell_type": "code",
   "execution_count": 37,
   "id": "5be4fc90",
   "metadata": {},
   "outputs": [],
   "source": [
    "c.incrementa()"
   ]
  },
  {
   "cell_type": "code",
   "execution_count": 38,
   "id": "db9a6eba",
   "metadata": {},
   "outputs": [
    {
     "data": {
      "text/plain": [
       "11"
      ]
     },
     "execution_count": 38,
     "metadata": {},
     "output_type": "execute_result"
    }
   ],
   "source": [
    "c.valor"
   ]
  },
  {
   "cell_type": "code",
   "execution_count": 39,
   "id": "7a3cca01",
   "metadata": {},
   "outputs": [],
   "source": [
    "c.decrementa()"
   ]
  },
  {
   "cell_type": "code",
   "execution_count": 40,
   "id": "192acc60",
   "metadata": {},
   "outputs": [
    {
     "data": {
      "text/plain": [
       "10"
      ]
     },
     "execution_count": 40,
     "metadata": {},
     "output_type": "execute_result"
    }
   ],
   "source": [
    "c.valor"
   ]
  },
  {
   "cell_type": "code",
   "execution_count": 52,
   "id": "373075b5",
   "metadata": {},
   "outputs": [],
   "source": [
    "class Calculos(DidaticaTech):\n",
    "    def __init__(self, d=5):\n",
    "        super().__init__(v=10, i=1)\n",
    "        self.divisor = d\n",
    "    def decrementa(self):\n",
    "        self.valor = self.valor - self.incremento\n",
    "    def divide(self):\n",
    "        self.valor = self.valor / self.divisor"
   ]
  },
  {
   "cell_type": "code",
   "execution_count": 53,
   "id": "2c53fd5f",
   "metadata": {},
   "outputs": [],
   "source": [
    "c = Calculos()"
   ]
  },
  {
   "cell_type": "code",
   "execution_count": 54,
   "id": "77cd8685",
   "metadata": {},
   "outputs": [],
   "source": [
    "c.incrementa()"
   ]
  },
  {
   "cell_type": "code",
   "execution_count": 55,
   "id": "e69179bc",
   "metadata": {},
   "outputs": [
    {
     "data": {
      "text/plain": [
       "11"
      ]
     },
     "execution_count": 55,
     "metadata": {},
     "output_type": "execute_result"
    }
   ],
   "source": [
    "c.valor"
   ]
  },
  {
   "cell_type": "code",
   "execution_count": 56,
   "id": "40d13407",
   "metadata": {},
   "outputs": [],
   "source": [
    "c.decrementa()"
   ]
  },
  {
   "cell_type": "code",
   "execution_count": 57,
   "id": "83ad5a0a",
   "metadata": {},
   "outputs": [
    {
     "data": {
      "text/plain": [
       "10"
      ]
     },
     "execution_count": 57,
     "metadata": {},
     "output_type": "execute_result"
    }
   ],
   "source": [
    "c.valor"
   ]
  },
  {
   "cell_type": "code",
   "execution_count": 58,
   "id": "3b3ee64d",
   "metadata": {},
   "outputs": [],
   "source": [
    "c.divide()"
   ]
  },
  {
   "cell_type": "code",
   "execution_count": 59,
   "id": "ceb85970",
   "metadata": {},
   "outputs": [
    {
     "data": {
      "text/plain": [
       "2.0"
      ]
     },
     "execution_count": 59,
     "metadata": {},
     "output_type": "execute_result"
    }
   ],
   "source": [
    "c.valor"
   ]
  }
 ],
 "metadata": {
  "kernelspec": {
   "display_name": "Python 3 (ipykernel)",
   "language": "python",
   "name": "python3"
  },
  "language_info": {
   "codemirror_mode": {
    "name": "ipython",
    "version": 3
   },
   "file_extension": ".py",
   "mimetype": "text/x-python",
   "name": "python",
   "nbconvert_exporter": "python",
   "pygments_lexer": "ipython3",
   "version": "3.9.13"
  }
 },
 "nbformat": 4,
 "nbformat_minor": 5
}
